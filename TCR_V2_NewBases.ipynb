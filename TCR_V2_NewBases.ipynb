{
 "cells": [
  {
   "cell_type": "code",
   "execution_count": 1,
   "metadata": {},
   "outputs": [],
   "source": [
    "import pandas as pd\n",
    "import matplotlib.pyplot as plt\n",
    "import seaborn as sns\n",
    "import numpy as np"
   ]
  },
  {
   "cell_type": "code",
   "execution_count": 13,
   "metadata": {},
   "outputs": [],
   "source": [
    "rhc14 = pd.read_excel('C:\\\\Users\\\\rapha\\\\Desktop\\\\Lara\\\\TCR\\\\Bases_TCR\\\\rhc14_v2.xlsx')\n",
    "rhc17 = pd.read_excel('C:\\\\Users\\\\rapha\\\\Desktop\\\\Lara\\\\TCR\\\\Bases_TCR\\\\rhc17_v2.xlsx')\n",
    "\n",
    "\n",
    "bases = [rhc14,rhc17]"
   ]
  },
  {
   "cell_type": "code",
   "execution_count": 14,
   "metadata": {},
   "outputs": [],
   "source": [
    "for base in bases:   \n",
    "    #base['IDADE'] = base['IDADE'].astype(str)\n",
    "    base.loc[ base['IDADE'] <= 19, 'FAIXA_ETARIA'] = '0-19'\n",
    "    base.loc[(base['IDADE'] >= 20) & (base['IDADE'] <= 39), 'FAIXA_ETARIA'] = '20-39'\n",
    "    base.loc[(base['IDADE'] > 39) & (base['IDADE'] <= 64), 'FAIXA_ETARIA'] = '40-64'\n",
    "    base.loc[base['IDADE'] >= 65, 'FAIXA_ETARIA'] = '>65'\n",
    "   "
   ]
  },
  {
   "cell_type": "code",
   "execution_count": 15,
   "metadata": {},
   "outputs": [],
   "source": [
    "L1 = ['RJ']\n",
    "d1 = dict.fromkeys(L1, 'RJ')\n",
    "\n",
    "L2 = ['MG', 'SP', 'PE']\n",
    "d2 = dict.fromkeys(L2, 'Outros Estados')\n",
    "\n",
    "L3 = ['99']\n",
    "d3 = dict.fromkeys(L3, 'Sem Informação')\n",
    "\n",
    "d = {**d1, **d2, **d3}\n",
    "for base in bases:\n",
    "    base['UF_PROCED2'] = base['UF_PROCED'].map(d)"
   ]
  },
  {
   "cell_type": "code",
   "execution_count": 16,
   "metadata": {},
   "outputs": [],
   "source": [
    "L1 = ['Angra dos Reis', 'Paraty', 'Mangaratiba']\n",
    "d1 = dict.fromkeys(L1, 'Baia de Ilha Grande')\n",
    "\n",
    "L2 = ['Araruama', 'Armação dos Búzios', 'Arraial do Cabo', 'Cabo Frio', 'Casimiro de Abreu', 'Iguaba Grande', \n",
    "      'Rio das Ostras', 'São Pedro da Aldeia', 'Saquarema']\n",
    "d2 = dict.fromkeys(L2, 'Baixada Litoranea')\n",
    "\n",
    "L3 = ['Areal', 'Miguel Pereira', 'Paraíba do Sul', 'Paty do Alferes', 'Scapucaia', 'Três Rios', 'Vassouras', \n",
    "      'Paracambi']\n",
    "d3 = dict.fromkeys(L3, 'Centro-sul')\n",
    "\n",
    "L4 = ['Barra do Piraí','Barra Mansa', 'Itatiaia', 'Pinheiral', 'Piraí', 'Porto Real', 'Resende', 'Rio Claro', \n",
    "      'Valença', 'Volta Redonda']\n",
    "d4 = dict.fromkeys(L4, 'Médio Paraíba')\n",
    "\n",
    "L5 = ['Belford Roxo', 'Duque de Caxias', 'Itaguaí', 'Japeri', 'Magé', 'Mesquita', 'Nilópolis', \n",
    "       'Nova Iguaçu', 'Queimados', 'Rio de Janeiro', 'São João de Meriti', 'Seropédica']\n",
    "d5 = dict.fromkeys(L5, 'Metropolitana I')\n",
    "\n",
    "L6 = ['Itaboraí', 'Maricá', 'Niterói', 'São Gonçalo', 'Tanguá', 'Rio Bonito', 'Silva Jardim']\n",
    "d6 = dict.fromkeys(L6, 'Metropolitana II')\n",
    "\n",
    "L7 = ['Aperibé', 'Bom Jesus do Itabapoana', 'Cambuci', 'Italva', 'Itaocara', 'Itaperuna', 'Laje do Muriaé', \n",
    "      'Miracema', 'Natividade', 'Porciúncula', 'Santo Antônio de Pádua', 'São José de Ubá', 'Varre-Sai']\n",
    "d7 = dict.fromkeys(L7, 'Noroeste')\n",
    "\n",
    "L8 = ['Campos dos Goytacazes', 'Carapebus', 'Cardoso Moreira', 'Conceição de Macabu', 'Macaé', 'Quissamã', \n",
    "      'São Fidélis', 'São Francisco de Itabapoana', 'São João da Barra'] \n",
    "d8 = dict.fromkeys(L8, 'Norte')\n",
    "\n",
    "L9 = ['Bom Jardim', 'Cantagalo', 'Carmo', 'Nova Friburgo', 'Petrópolis', 'São Sebastião do Alto', \n",
    "      'Sumidouro', 'Trajano de Moraes','Teresópolis', 'Cachoeiras de Macacu', 'Guapimirim', \n",
    "      'São José do Vale do Rio Preto','Macuco','Santa Maria Madalena']\n",
    "d9 = dict.fromkeys(L9, \"Serrana\")\n",
    "\n",
    "d = {**d1, **d2, **d3, **d4, **d5, **d6, **d7, **d8, **d9}\n",
    "for base in bases:\n",
    "    base['REGIAO_SAUDE'] = base['CIDADE_PROCED'].map(d)"
   ]
  },
  {
   "cell_type": "code",
   "execution_count": 17,
   "metadata": {},
   "outputs": [],
   "source": [
    "rhc14.to_excel('C:\\\\Users\\\\rapha\\\\Desktop\\\\Lara\\\\TCR\\\\Bases_TCR\\\\rhc14_v3.xlsx')\n",
    "rhc17.to_excel('C:\\\\Users\\\\rapha\\\\Desktop\\\\Lara\\\\TCR\\\\Bases_TCR\\\\rhc17_v3.xlsx')"
   ]
  },
  {
   "cell_type": "code",
   "execution_count": null,
   "metadata": {},
   "outputs": [],
   "source": []
  }
 ],
 "metadata": {
  "kernelspec": {
   "display_name": "Python 3",
   "language": "python",
   "name": "python3"
  },
  "language_info": {
   "codemirror_mode": {
    "name": "ipython",
    "version": 3
   },
   "file_extension": ".py",
   "mimetype": "text/x-python",
   "name": "python",
   "nbconvert_exporter": "python",
   "pygments_lexer": "ipython3",
   "version": "3.6.4"
  }
 },
 "nbformat": 4,
 "nbformat_minor": 2
}
