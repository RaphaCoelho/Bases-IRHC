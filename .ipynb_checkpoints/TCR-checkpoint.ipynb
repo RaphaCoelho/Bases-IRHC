{
 "cells": [
  {
   "cell_type": "code",
   "execution_count": 294,
   "metadata": {},
   "outputs": [],
   "source": [
    "import pandas as pd\n",
    "import matplotlib.pyplot as plt\n",
    "import seaborn as sns\n",
    "import numpy as np"
   ]
  },
  {
   "cell_type": "code",
   "execution_count": 295,
   "metadata": {},
   "outputs": [],
   "source": [
    "rhc12 = pd.read_excel('C:\\\\Users\\\\rapha\\\\Desktop\\\\Lara\\\\Bases_TCR\\\\rhc12.xlsx')\n",
    "rhc13 = pd.read_excel('C:\\\\Users\\\\rapha\\\\Desktop\\\\Lara\\\\Bases_TCR\\\\rhc13.xlsx')\n",
    "rhc15 = pd.read_excel('C:\\\\Users\\\\rapha\\\\Desktop\\\\Lara\\\\Bases_TCR\\\\rhc15.xlsx')\n",
    "rhc16 = pd.read_excel('C:\\\\Users\\\\rapha\\\\Desktop\\\\Lara\\\\Bases_TCR\\\\rhc16.xlsx')\n",
    "\n",
    "\n",
    "bases = [rhc12,rhc13,rhc15,rhc16]"
   ]
  },
  {
   "cell_type": "code",
   "execution_count": null,
   "metadata": {},
   "outputs": [],
   "source": [
    "for base in bases:\n",
    "    base ['SEXO'] = base ['SEXO'].map( {1: 'Masculino', \n",
    "                                        2: 'Feminino' }).astype(str)\n"
   ]
  },
  {
   "cell_type": "code",
   "execution_count": 299,
   "metadata": {},
   "outputs": [],
   "source": [
    "for base in bases:\n",
    "    base['RACA_COR'] = base['RACA_COR'].map( {1: 'Branca', \n",
    "                                              2: 'Preta', \n",
    "                                              3: 'Amarela', \n",
    "                                              4: 'Parda', \n",
    "                                              5: 'Indígena', \n",
    "                                              9: 'Sem informação'}).astype(str)\n"
   ]
  },
  {
   "cell_type": "code",
   "execution_count": 300,
   "metadata": {},
   "outputs": [],
   "source": [
    "for base in bases:\n",
    "    base['ESCOLARIDADE'] = base['ESCOLARIDADE'].map( {1: 'Nenhuma', \n",
    "                                                      2: 'Fundamental incompleto', \n",
    "                                                      3: 'Fundamental completo', \n",
    "                                                      4: 'Nível médio', \n",
    "                                                      5: 'Nível superior incompleto', \n",
    "                                                      6: 'Nível superior completo', \n",
    "                                                      9: 'Sem informação' }).astype(str)"
   ]
  },
  {
   "cell_type": "code",
   "execution_count": 301,
   "metadata": {},
   "outputs": [],
   "source": [
    "for base in bases:\n",
    "    base['HIST_FAMILIAR'] = base['HIST_FAMILIAR'].map( {1: 'Sim', \n",
    "                                                        2: 'Não', \n",
    "                                                        9: 'Sem informação'}).astype(str)"
   ]
  },
  {
   "cell_type": "code",
   "execution_count": 302,
   "metadata": {},
   "outputs": [],
   "source": [
    "for base in bases:\n",
    "    base['ETILISMO'] = base['ETILISMO'].map( {1: 'Não', \n",
    "                                              2: 'Ex-consumidor', \n",
    "                                              3: 'Sim', \n",
    "                                              4: 'Não', \n",
    "                                              8: 'Não se Aplica', \n",
    "                                              9: 'Sem Informação'} ).astype(str)"
   ]
  },
  {
   "cell_type": "code",
   "execution_count": 303,
   "metadata": {},
   "outputs": [],
   "source": [
    "for base in bases:\n",
    "    base['TABAGISMO'] = base['TABAGISMO'].map( {1: 'Não',\n",
    "                                                2: 'Ex-consumidor', \n",
    "                                                3: 'Sim', \n",
    "                                                4: 'Não avaliado', \n",
    "                                                8: 'Não se aplica', \n",
    "                                                9: 'Sem informação'}).astype(str)"
   ]
  },
  {
   "cell_type": "code",
   "execution_count": 304,
   "metadata": {},
   "outputs": [],
   "source": [
    "for base in bases:\n",
    "    base['CIDADE_PROCED'] = base['CIDADE_PROCED'].map( {3304557: 'Rio de Janeiro',\n",
    "                                                                  3300902: 'Cambuci', \n",
    "                                                                  3300456: 'Belford Roxo', \n",
    "                                                                  3303500: 'Nova Iguaçu', \n",
    "                                                                  3302270: 'Japeri',\n",
    "                                                                  3303401: 'Nova Friburgo', \n",
    "                                                                  3301702: 'Duque de Caxias', \n",
    "                                                                  3304300: 'Rio Bonito', \n",
    "                                                                  3305752: 'Tanguá', \n",
    "                                                                  3305802: 'Teresópolis', \n",
    "                                                                  3301009: 'Campos dos Goytacazes', \n",
    "                                                                  3305109: 'São João de Meriti', \n",
    "                                                                  3302007: 'Itaguaí',  \n",
    "                                                                  3300407: 'Barra Mansa', \n",
    "                                                                  3303203: 'Nilópolis',\n",
    "                                                                  3304805: 'São Fidélis',\n",
    "                                                                  3300506: 'Bom Jardim',\n",
    "                                                                  3302858: 'Mesquita',\n",
    "                                                                  3304904: 'São Gonçalo',\n",
    "                                                                  3303906: 'Petrópolis',\n",
    "                                                                  3302502: 'Magé', \n",
    "                                                                  3305505: 'Saquarema',\n",
    "                                                                  3301900: 'Itaboraí', \n",
    "                                                                  3300605: 'Bom Jesus do Itabapoana',\n",
    "                                                                  3303005: 'Miracema', \n",
    "                                                                  3300225: 'Areal',\n",
    "                                                                  3304144: 'Queimados',\n",
    "                                                                  3304003: 'Piraí', \n",
    "                                                                  3301306: 'Casimiro de Abreu', \n",
    "                                                                  3304110: 'Porto Real',\n",
    "                                                                  3304524: 'Rio das Ostras',\n",
    "                                                                  3301850: 'Guapimirim',\n",
    "                                                                  3301876: 'Iguaba Grande',\n",
    "                                                                  3305703: 'Sumidouro',\n",
    "                                                                  3302601: 'Mangaratiba', \n",
    "                                                                  3302700: 'Maricá',\n",
    "                                                                  3300100: 'Angra dos Reis',\n",
    "                                                                  3304755: 'São Francisco do Itabapoana',\n",
    "                                                                  3303302: 'Niterói', \n",
    "                                                                  3300803: 'Cachoreiras de Macacu',\n",
    "                                                                  3305604: 'Silva Jardim',\n",
    "                                                                  3300704: 'Cabo Frio',\n",
    "                                                                  3302403: 'Macaé',\n",
    "                                                                  3306008: 'Três Rios', \n",
    "                                                                  3304201: 'Resende', \n",
    "                                                                  3304151: 'Quissamã', \n",
    "                                                                  3300209: 'Araruama', \n",
    "                                                                  3301157: 'Cardoso Moreira', \n",
    "                                                                  3304102: 'Porciúncula',\n",
    "                                                                  3302056: 'Italva', \n",
    "                                                                  3115508: 'Caxambu', \n",
    "                                                                  3301207: 'Carmo', \n",
    "                                                                  3306206: 'Vassouras', \n",
    "                                                                  3303807: 'Paraty', \n",
    "                                                                  3306305: 'Volta Redonda', \n",
    "                                                                  3304409: 'Rio Claro',\n",
    "                                                                  3301108: 'Cantagalo', \n",
    "                                                                  3301405: 'Conceição de Macabu', \n",
    "                                                                  3302304: 'Laje do Muriaé', \n",
    "                                                                  3303856: 'Paty do Alferes', \n",
    "                                                                  3300936: 'Carapebus', \n",
    "                                                                  3302254: 'Itatiaia', \n",
    "                                                                  3302106: 'Itaocara',\n",
    "                                                                  3305554: 'Seropédica', \n",
    "                                                                  3305208: 'São Pedro da Aldeia', \n",
    "                                                                  3304706: 'Santo Antônio de Pádua', \n",
    "                                                                  3300258: 'Arraial do Cabo', \n",
    "                                                                  3306107: 'Valença', \n",
    "                                                                  3303104: 'Natividade', \n",
    "                                                                  3302205: 'Itaperuna',\n",
    "                                                                  3302908: 'Miguel Pereira', \n",
    "                                                                  3300308: 'Barra do Piraí', \n",
    "                                                                  3509502: 'Campinas', \n",
    "                                                                  3300233: 'Armação dos Búzios', \n",
    "                                                                  3305000: 'São João da Barra', \n",
    "                                                                  3303609: 'Paracambi', \n",
    "                                                                  3303708: 'Paraíba do Sul',\n",
    "                                                                  3305406: 'Scapucaia', \n",
    "                                                                  3305307: 'São Sebastião do Alto', \n",
    "                                                                  3300159: 'Aperibé', \n",
    "                                                                  2611606: 'Recife', \n",
    "                                                                  3305158: 'São João do Vale do Rio Preto', \n",
    "                                                                  9999999: 'Sem Informação', \n",
    "                                                                  3303955: 'Pinheiral',\n",
    "                                                                  3305133: 'São João de Ubá', \n",
    "                                                                  3306156: 'Varre-Sai', \n",
    "                                                                  3305901: 'Trajano de Moraes'}).astype(str)"
   ]
  },
  {
   "cell_type": "code",
   "execution_count": 305,
   "metadata": {},
   "outputs": [],
   "source": [
    "for base in bases:\n",
    "    base['ORIGEM_ENC'] = base['ORIGEM_ENC'].map( {1: 'SUS',\n",
    "                                                  2: 'Privado', \n",
    "                                                  3:'Sem encaminhamento', \n",
    "                                                  8: 'Não se aplica', \n",
    "                                                  9: 'Sem informação'}).astype(str)"
   ]
  },
  {
   "cell_type": "code",
   "execution_count": 306,
   "metadata": {},
   "outputs": [],
   "source": [
    "for base in bases:\n",
    "    base['ESTADO_CIVIL'] = base['ESTADO_CIVIL'].map( {1: 'Solteiro',\n",
    "                                                      2: 'Casado', \n",
    "                                                      3: 'Viúvo',\n",
    "                                                      5: 'União consensual',\n",
    "                                                      4: 'Divociardo', \n",
    "                                                      9: 'Sem informação'}).astype(str)"
   ]
  },
  {
   "cell_type": "code",
   "execution_count": 307,
   "metadata": {},
   "outputs": [],
   "source": [
    "for base in bases:\n",
    "    base['DIAG_TRAT_ANT'] = base['DIAG_TRAT_ANT'].map( {1: 'Sem diagnóstico/tratamento',\n",
    "                                                      2: 'Com diagnóstico/sem tratamento', \n",
    "                                                      3: 'Com diagnóstico/tratamento', \n",
    "                                                      9: 'Sem informação'}).astype(str)"
   ]
  },
  {
   "cell_type": "code",
   "execution_count": 308,
   "metadata": {},
   "outputs": [],
   "source": [
    "for base in bases:\n",
    "    base['BAS_MAIS_IMP_DIAG'] = base['BAS_MAIS_IMP_DIAG'].map( {1: 'Clínica',\n",
    "                                                          2: 'Pesquisa clínica', \n",
    "                                                          3: 'Exame por imagem', \n",
    "                                                          4: 'Marcadores tumorais', \n",
    "                                                          5: 'Citologia', \n",
    "                                                          6: 'Histologia por metástase',\n",
    "                                                          7: 'Histologia do tumor primário', \n",
    "                                                          9: 'Sem informação'}).astype(str)"
   ]
  },
  {
   "cell_type": "code",
   "execution_count": 309,
   "metadata": {},
   "outputs": [],
   "source": [
    "for base in bases:\n",
    "    base['LOC_PRIMA_DET'] = base['LOC_PRIMA_DET'].map( {'C53.0': 'Endocérvice', \n",
    "                                                        'C53.1': 'Exocérvice', \n",
    "                                                        'C53.8': 'Lesão sobreposta do colo do útero', \n",
    "                                                        'C53.9': 'Colo do útero'}).astype(str)"
   ]
  },
  {
   "cell_type": "code",
   "execution_count": 310,
   "metadata": {},
   "outputs": [],
   "source": [
    "for base in bases:\n",
    "    base['MAIS_UM_TUMOR'] = base['MAIS_UM_TUMOR'].map( {1: 'Não', \n",
    "                                                        2: 'Sim', \n",
    "                                                        3: 'Suspeito',\n",
    "                                                        0: 'Sem informação'}).astype(str)"
   ]
  },
  {
   "cell_type": "code",
   "execution_count": 311,
   "metadata": {},
   "outputs": [],
   "source": [
    "for base in bases:\n",
    "    base['TNM'] = base['TNM'].astype(str)\n",
    "    base.TNM.replace(['0','888','999'], ['Sem informação', 'Sem informação',\n",
    "                                     'Sem informação'], inplace=True)"
   ]
  },
  {
   "cell_type": "code",
   "execution_count": 312,
   "metadata": {},
   "outputs": [],
   "source": [
    "for base in bases:\n",
    "    base.ESTAD_CLÍNICO.replace(['0', '88', '99'], ['Sem informação', 'Sem informação',\n",
    "                                                 'Sem informação'], inplace=True)"
   ]
  },
  {
   "cell_type": "code",
   "execution_count": 313,
   "metadata": {},
   "outputs": [],
   "source": [
    "for base in bases:\n",
    "    base.GRUPO_ESTAD.replace([0, 8, 9], ['Sem informação', 'Sem informação',\n",
    "                                                 'Sem informação'] , inplace=True)"
   ]
  },
  {
   "cell_type": "code",
   "execution_count": 314,
   "metadata": {},
   "outputs": [],
   "source": [
    "for base in bases:\n",
    "    base ['RZNTR'] = base ['RZNTR'].map( {1: 'Recusa do tratamento', \n",
    "                                          2: 'Tratamento realizado em outro lugar', \n",
    "                                          3: 'Doença avançada, falta de condições clínicas ou outras comorbidades', \n",
    "                                          4: 'Abandono do tratamento', \n",
    "                                          5: 'Eventos adversos ao tratamento', \n",
    "                                          6: 'Óbito', \n",
    "                                          7: 'Outras razões', \n",
    "                                          8: 'Não se aplica', \n",
    "                                          9: 'Sem informação' }).astype(str)"
   ]
  },
  {
   "cell_type": "code",
   "execution_count": 315,
   "metadata": {},
   "outputs": [],
   "source": [
    "for base in bases:\n",
    "    base ['PRIMA_TRAT_HOSP'] = base ['PRIMA_TRAT_HOSP'].map( {1: 'Nenhum', \n",
    "                                                              2: 'Cirurgia', \n",
    "                                                              3: 'Radioterapia', \n",
    "                                                              4: 'Quimioterapia', \n",
    "                                                              5: 'Hormonioterapia', \n",
    "                                                              6: 'TMO', \n",
    "                                                              7: 'Imunoterapia', \n",
    "                                                              8: 'Outros', \n",
    "                                                              9: 'Sem informação', \n",
    "                                                              43: 'QT/RTX', \n",
    "                                                              34: 'RTX/QT', \n",
    "                                                              343: 'RTX/QT/RTX', \n",
    "                                                              33: 'RTX/RTX', \n",
    "                                                              234: 'Cirurgia/RTX/QT', \n",
    "                                                              2343: 'Cirurgia/RTX/QT/RTX', \n",
    "                                                              22: 'Cirurgia/Cirurgia', \n",
    "                                                              438: 'QT/RTX/Outros', \n",
    "                                                              23: 'Cirurgia/RTX', \n",
    "                                                              83: 'Outros/RTX', \n",
    "                                                              384: 'RTX/Outros/QT', \n",
    "                                                              24: 'Cirurgia/QT', \n",
    "                                                              42: 'QT/Cirurgia', \n",
    "                                                              84: 'Outros/QT', \n",
    "                                                              233: 'Cirurgia/RTX/RTX', \n",
    "                                                              45: 'QT/HT', \n",
    "                                                              44: 'QT/QT', \n",
    "                                                              38: 'RTX/Outros', \n",
    "                                                              3432: 'RTX/QT/RTX/Cirurgia', \n",
    "                                                              243: 'Cirurgia/QT/RTX', \n",
    "                                                              22343: 'Cirurgia/Cirurgia/RTX/QT/RTX',    \n",
    "                                                              32: 'RTX/Cirurgia',\n",
    "                                                              387: 'RTX/Outros/Imunoterapia',   \n",
    "                                                              348: 'RTX/QT/Outros',   \n",
    "                                                              344: 'RTX/QT/QT',  \n",
    "                                                              3433: 'RTX/QT/RTX/RTX',   \n",
    "                                                              342: 'RTX/QT/Cirurgia',   \n",
    "                                                              433: 'QT/RTX/RTX',   \n",
    "                                                              843: 'Outros/QT/RTX',   \n",
    "                                                              345: 'RTX/QT/HT',\n",
    "                                                              53: 'HT/RTX',  \n",
    "                                                              2344: 'Cirurgia/RTX/QT/QT',   \n",
    "                                                              432: 'QT/RTX/Cirurgia',  \n",
    "                                                              2432: 'Cirurgia/QT/RTX/Cirurgia',   \n",
    "                                                              222: 'Cirurgia/Cirurgia/Cirurgia',   \n",
    "                                                              424: 'QT/Cirurgia/QT',   \n",
    "                                                              223: 'Cirurgia/Cirurgia/RTX',   \n",
    "                                                              834: 'Outros/RXT/QT',\n",
    "                                                              48: 'QT/Outros',    \n",
    "                                                              28: 'Cirurgia/Outros',   \n",
    "                                                              324: 'RTX/Cirurgia/QT',    \n",
    "                                                              58: 'HT/Outros',  \n",
    "                                                              2435: 'Cirurgia/QT/RTX/HT',   \n",
    "                                                              425: 'QT/Cirurgia/HT',  \n",
    "                                                              2234: 'Cirurgia/Cirurgia/RTX/QT',   \n",
    "                                                              224: 'Cirurgia/Cirurgia/QT',  \n",
    "                                                              832: 'Outros/RTX/Cirurgia',\n",
    "                                                              434: 'QT/RTX/QT',  \n",
    "                                                              2438: 'Cirurgia/QT/RTX/Outros'   }).astype(str)"
   ]
  },
  {
   "cell_type": "code",
   "execution_count": 316,
   "metadata": {},
   "outputs": [],
   "source": [
    "for base in bases:\n",
    "    base ['DESF_PRIMA_TRAT'] = base ['DESF_PRIMA_TRAT'].map( {1: 'Remissão completa', \n",
    "                                                              2: 'Remissão parcial', \n",
    "                                                              3: 'Doença estável', \n",
    "                                                              4: 'Doença em progressão', \n",
    "                                                              5: 'Suporte terapêutico oncológico', \n",
    "                                                              6: 'Óbito', \n",
    "                                                              8: 'Não se aplica', \n",
    "                                                              9: 'Sem informação' }).astype(str)"
   ]
  },
  {
   "cell_type": "code",
   "execution_count": 317,
   "metadata": {},
   "outputs": [],
   "source": [
    "for base in bases:\n",
    "    base ['CNES'] = base ['CNES'].map( {2269988: 'Hospital dos Servidores do Estado', \n",
    "                                        2278855: 'Hospital São José do Avaí', \n",
    "                                        2269821: 'INCA 2', \n",
    "                                        2269384: 'Hospital do Andaraí', \n",
    "                                        2292386: 'Hospital São José - Associação da Congregação de Santa Catarina', \n",
    "                                        2287285: 'Hospital Geral Dr. Beda- Instituto de Medicina Nuclear e Endocrinologia', \n",
    "                                        2275562: 'Hospital Alcides Carneiro', \n",
    "                                        2268779: 'Centro de Terapia Oncológica SC LTDA', \n",
    "                                        2269880: 'Hospital Geral de Bonsucesso', \n",
    "                                        2287250: 'Sociedade Porturguesa de Beneficência de Campos',\n",
    "                                        2287447: 'Hospital Universitário Álvaro Alvim', \n",
    "                                        12505: 'Hospital Universitário Antonio Pedro - UFF',\n",
    "                                        2278286: 'Hospital Santa Isabel', \n",
    "                                        2280167: 'Hospital Universitário Clementino Fraga Filho - UFRJ', \n",
    "                                        25186: 'Hospital Jardim Amália LTDA - HINJA', \n",
    "                                        2269899: 'Hospital Mário Kroeff - Associação Brasileira de Assisência ao Câncer', \n",
    "                                        2296241: 'Hospital Regional Darcy Vargas', \n",
    "                                        2295423: 'Hospital Geral de Jacarepaguá - Hospital Cardoso Fontes'       }).astype(str)"
   ]
  },
  {
   "cell_type": "code",
   "execution_count": 318,
   "metadata": {},
   "outputs": [],
   "source": [
    "for base in bases:\n",
    "    base ['CIDADE_HOSPITAL'] = base ['CIDADE_HOSPITAL'].map( {3304557: 'Rio de Janeiro', \n",
    "                                                              3302205: 'Itaperuna', \n",
    "                                                              3305802: 'Teresópolis', \n",
    "                                                              3301009: 'Campos dos Goytacazes', \n",
    "                                                              3303906: 'Petrópolis', \n",
    "                                                              3303302: 'Niterói', \n",
    "                                                              3300704: 'Cabo Frio', \n",
    "                                                              3306305: 'Volta Redonda', \n",
    "                                                              3304300: 'Rio Bonito'}).astype(str)"
   ]
  },
  {
   "cell_type": "code",
   "execution_count": 319,
   "metadata": {},
   "outputs": [],
   "source": [
    "for base in bases:\n",
    "    base ['OCUPACAO'] = base ['OCUPACAO'].map( {451: 'Vendedora', 795: 'Costureira',  \n",
    "                                                540: 'Empregada Doméstica', 999: 'Não Classificado', \n",
    "                                                552: 'Auxiliar de Seviços Gerais', 9999: 'Não Classificado', \n",
    "                                                570: 'Cabelereira', 394: 'Recepcionista', \n",
    "                                                149: 'Professora', 410: 'Comerciante', \n",
    "                                                531: 'Cozinheira',321: 'Secretária',  \n",
    "                                                791: 'Costureira',142: 'Professora',   \n",
    "                                                72: 'Técnica de Enfermagem',  888: 'Ourives',   \n",
    "                                                30: 'Técnica de Contabilidade',  141: 'Professora',  \n",
    "                                                452: 'Vendedora',  490: 'Trabalhadora de Comércio',  \n",
    "                                                163: 'Fotógrafa',  621: 'Agricultora', \n",
    "                                                399: 'Auxiliar Administrativo',  572: 'Técnica de Laboratório',  \n",
    "                                                985: 'Motorista',  311: 'Assistente Administrativo',   \n",
    "                                                74: 'Psicológa',   29: 'Engenheira',  \n",
    "                                                719: 'Mineradora',  314: 'Serventuária da Justiça',  \n",
    "                                                249: 'Gerente de Empresas',   39: 'Técnica de Nível Médio',  \n",
    "                                                339: 'Operadora de Caixa', 599: 'Guia Turístico',   \n",
    "                                                71: 'Enfermeira',  799: 'Costureira',  \n",
    "                                                332: 'Operadora de Caixa',  872: 'Soldadora',  \n",
    "                                                393: 'Auxiliar de Escritório',  939: 'Pintora',  \n",
    "                                                331: 'Operadora de Caixa', 79: 'Médica',  \n",
    "                                                121: 'Adovagada', 560: 'Lavadeira', \n",
    "                                                131: 'Professora', 664: 'Pescadora',  \n",
    "                                                198: 'Analista de Seguro', 92: 'Administradora de Empresas',  \n",
    "                                                532: 'Garçonete',  341: 'Auxiliar de Contabilidade',  \n",
    "                                                859: 'Eletricista',  214: 'Servidora Pública',   \n",
    "                                                73: 'Assistente Social',  779: 'Auxiliar de Cozinha',  \n",
    "                                                137: 'Professora', 241: 'Gerente Administrativo',  \n",
    "                                                192: 'Socióloga',  639: 'Agricultora',  \n",
    "                                                239: 'Diretora de Empresas',  174: 'Empresária',  \n",
    "                                                989: 'Motorista', 68: 'Nutricionista',  \n",
    "                                                749: 'Técnica de Química',  143: 'Professora',  \n",
    "                                                931: 'Pintora',  136: 'Professora',\n",
    "                                                67: 'Farmacêuitca',  175: 'Artista de Circo',  \n",
    "                                                179: 'Musicista', 63: 'Cirurgiã-dentista',  \n",
    "                                                380: 'Telefonista', 583: 'Segurança', \n",
    "                                                65: 'Médica Veterinária', 441: 'Corretora de Seguros',  \n",
    "                                                144: 'Professora', 33: 'Técnica de Agrimensura',  \n",
    "                                                669: 'Pescadora', 171: 'Cantora',  \n",
    "                                                754: 'Tecelã',  835: 'Operadora de Máquinas',   \n",
    "                                                93: 'Contadora',  432: 'Representante Comercial',  \n",
    "                                                756: 'Tintureira',  959: 'Trabalhadora de Construção Cívil',  \n",
    "                                                454: 'Decoradora', 61: 'Médica'}).astype(str)"
   ]
  },
  {
   "cell_type": "code",
   "execution_count": 321,
   "metadata": {},
   "outputs": [],
   "source": [
    "rhc12.to_excel('C:\\\\Users\\\\rapha\\\\Desktop\\\\Lara\\\\Bases_TCR\\\\rhc12_tratada.xlsx')\n",
    "rhc13.to_excel('C:\\\\Users\\\\rapha\\\\Desktop\\\\Lara\\\\Bases_TCR\\\\rhc13_tratada.xlsx')\n",
    "rhc15.to_excel('C:\\\\Users\\\\rapha\\\\Desktop\\\\Lara\\\\Bases_TCR\\\\rhc15_tratada.xlsx')\n",
    "rhc16.to_excel('C:\\\\Users\\\\rapha\\\\Desktop\\\\Lara\\\\Bases_TCR\\\\rhc16_tratada.xlsx')"
   ]
  },
  {
   "cell_type": "code",
   "execution_count": null,
   "metadata": {},
   "outputs": [],
   "source": []
  }
 ],
 "metadata": {
  "kernelspec": {
   "display_name": "Python 3",
   "language": "python",
   "name": "python3"
  },
  "language_info": {
   "codemirror_mode": {
    "name": "ipython",
    "version": 3
   },
   "file_extension": ".py",
   "mimetype": "text/x-python",
   "name": "python",
   "nbconvert_exporter": "python",
   "pygments_lexer": "ipython3",
   "version": "3.6.4"
  }
 },
 "nbformat": 4,
 "nbformat_minor": 2
}
