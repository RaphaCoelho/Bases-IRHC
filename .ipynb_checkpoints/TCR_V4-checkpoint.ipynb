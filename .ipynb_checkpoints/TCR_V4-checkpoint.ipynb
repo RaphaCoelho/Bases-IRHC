{
 "cells": [
  {
   "cell_type": "code",
   "execution_count": 1,
   "metadata": {},
   "outputs": [],
   "source": [
    "import pandas as pd\n",
    "import matplotlib.pyplot as plt\n",
    "import seaborn as sns"
   ]
  },
  {
   "cell_type": "code",
   "execution_count": 3,
   "metadata": {},
   "outputs": [],
   "source": [
    "rhc12 = pd.read_excel('C:\\\\Users\\\\rapha\\\\Desktop\\\\Lara\\\\TCR\\\\Bases_TCR\\\\Bases_V5\\\\rhc12_v5.xlsx')\n",
    "rhc13 = pd.read_excel('C:\\\\Users\\\\rapha\\\\Desktop\\\\Lara\\\\TCR\\\\Bases_TCR\\\\Bases_V5\\\\rhc13_v5.xlsx')\n",
    "rhc14 = pd.read_excel('C:\\\\Users\\\\rapha\\\\Desktop\\\\Lara\\\\TCR\\\\Bases_TCR\\\\Bases_V5\\\\rhc14_v5.xlsx')\n",
    "rhc15 = pd.read_excel('C:\\\\Users\\\\rapha\\\\Desktop\\\\Lara\\\\TCR\\\\Bases_TCR\\\\Bases_V5\\\\rhc15_v5.xlsx')\n",
    "rhc16 = pd.read_excel('C:\\\\Users\\\\rapha\\\\Desktop\\\\Lara\\\\TCR\\\\Bases_TCR\\\\Bases_V5\\\\rhc16_v5.xlsx')\n",
    "rhc17 = pd.read_excel('C:\\\\Users\\\\rapha\\\\Desktop\\\\Lara\\\\TCR\\\\Bases_TCR\\\\Bases_V5\\\\rhc17_v5.xlsx')\n",
    "\n",
    "\n",
    "bases = [rhc12,rhc13,rhc14,rhc15,rhc16,rhc17]"
   ]
  },
  {
   "cell_type": "code",
   "execution_count": 4,
   "metadata": {},
   "outputs": [],
   "source": [
    "for base in bases:\n",
    "    base ['PERIODO_CONS'] = base ['PERIODO_CONS'].map( {1: '1º Bimestre', \n",
    "                                                        2: '1º Bimestre',\n",
    "                                                        3: '2º Bimestre',\n",
    "                                                        4: '2º Bimestre',\n",
    "                                                        5: '3º Bimestre',\n",
    "                                                        6: '3º Bimestre',\n",
    "                                                        7: '4º Bimestre',\n",
    "                                                        8: '4º Bimestre',\n",
    "                                                        9: '5º Bimestre',\n",
    "                                                        10: '5º Bimestre',\n",
    "                                                        11: '6º Bimestre',\n",
    "                                                        12: '6º Bimestre',}).astype(str)"
   ]
  },
  {
   "cell_type": "code",
   "execution_count": 5,
   "metadata": {},
   "outputs": [],
   "source": [
    "rhc12.to_excel('C:\\\\Users\\\\rapha\\\\Desktop\\\\Lara\\\\TCR\\\\Bases_TCR\\\\Bases_V6\\\\rhc12_v6.xlsx')\n",
    "rhc13.to_excel('C:\\\\Users\\\\rapha\\\\Desktop\\\\Lara\\\\TCR\\\\Bases_TCR\\\\Bases_V6\\\\rhc13_v6.xlsx')\n",
    "rhc14.to_excel('C:\\\\Users\\\\rapha\\\\Desktop\\\\Lara\\\\TCR\\\\Bases_TCR\\\\Bases_V6\\\\rhc14_v6.xlsx')\n",
    "rhc15.to_excel('C:\\\\Users\\\\rapha\\\\Desktop\\\\Lara\\\\TCR\\\\Bases_TCR\\\\Bases_V6\\\\rhc15_v6.xlsx')\n",
    "rhc16.to_excel('C:\\\\Users\\\\rapha\\\\Desktop\\\\Lara\\\\TCR\\\\Bases_TCR\\\\Bases_V6\\\\rhc16_v6.xlsx')\n",
    "rhc17.to_excel('C:\\\\Users\\\\rapha\\\\Desktop\\\\Lara\\\\TCR\\\\Bases_TCR\\\\Bases_V6\\\\rhc17_v6.xlsx')"
   ]
  },
  {
   "cell_type": "code",
   "execution_count": 6,
   "metadata": {},
   "outputs": [],
   "source": [
    "database = pd.concat([rhc12,rhc13,rhc14,rhc15,rhc16,rhc17], sort=False)"
   ]
  },
  {
   "cell_type": "code",
   "execution_count": 7,
   "metadata": {},
   "outputs": [],
   "source": [
    "database.to_excel('C:\\\\Users\\\\rapha\\\\Desktop\\\\Lara\\\\TCR\\\\Bases_TCR\\\\database_v6.xlsx')"
   ]
  },
  {
   "cell_type": "code",
   "execution_count": 2,
   "metadata": {},
   "outputs": [
    {
     "name": "stdout",
     "output_type": "stream",
     "text": [
      "1.0.5\n"
     ]
    }
   ],
   "source": [
    "print(pd.__version__)"
   ]
  },
  {
   "cell_type": "code",
   "execution_count": null,
   "metadata": {},
   "outputs": [],
   "source": []
  }
 ],
 "metadata": {
  "kernelspec": {
   "display_name": "Python 3",
   "language": "python",
   "name": "python3"
  },
  "language_info": {
   "codemirror_mode": {
    "name": "ipython",
    "version": 3
   },
   "file_extension": ".py",
   "mimetype": "text/x-python",
   "name": "python",
   "nbconvert_exporter": "python",
   "pygments_lexer": "ipython3",
   "version": "3.6.4"
  }
 },
 "nbformat": 4,
 "nbformat_minor": 2
}
