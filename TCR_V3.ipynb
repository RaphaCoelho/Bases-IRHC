{
 "cells": [
  {
   "cell_type": "code",
   "execution_count": 1,
   "metadata": {},
   "outputs": [],
   "source": [
    "import pandas as pd\n",
    "import matplotlib.pyplot as plt\n",
    "import seaborn as sns\n",
    "import datetime as dt\n",
    "#df_test['Difference'] = (df_test['First_Date'] - df_test['Second Date']).dt.days"
   ]
  },
  {
   "cell_type": "code",
   "execution_count": null,
   "metadata": {},
   "outputs": [],
   "source": [
    "# DT_PRIMA_CONS - DT_PRIMA_DIAG Em dias\n",
    "# DT_INICIO_TRAT - DT_PRIMA_DIAG Em dias\n",
    "# DT_INICIO_TRAT - DT_PRIMA_CONS Em dias\n",
    "# DATA_OBITO - DT_INICIO_TRAT Em dias\n",
    "# DATA_OBITO - DT_PRIMA_DIAG Em dias\n",
    "# DATA_OBITO - DT_PRIMA_CONS Em dias\n",
    "\n",
    "# Dividir as 4 variáveis temporais por bimestre"
   ]
  },
  {
   "cell_type": "code",
   "execution_count": 2,
   "metadata": {},
   "outputs": [],
   "source": [
    "rhc12 = pd.read_excel('C:\\\\Users\\\\rapha\\\\Desktop\\\\Lara\\\\TCR\\\\Bases_TCR\\\\rhc12_v3.xlsx')\n",
    "rhc13 = pd.read_excel('C:\\\\Users\\\\rapha\\\\Desktop\\\\Lara\\\\TCR\\\\Bases_TCR\\\\rhc13_v3.xlsx')\n",
    "rhc15 = pd.read_excel('C:\\\\Users\\\\rapha\\\\Desktop\\\\Lara\\\\TCR\\\\Bases_TCR\\\\rhc15_v3.xlsx')\n",
    "rhc16 = pd.read_excel('C:\\\\Users\\\\rapha\\\\Desktop\\\\Lara\\\\TCR\\\\Bases_TCR\\\\rhc16_v3.xlsx')\n",
    "\n",
    "\n",
    "bases = [rhc12,rhc13,rhc15,rhc16]\n",
    "database = pd.concat(bases)"
   ]
  },
  {
   "cell_type": "code",
   "execution_count": 3,
   "metadata": {},
   "outputs": [],
   "source": [
    "for base in bases:\n",
    "    base['DATA_OBITO'].replace({'/  /':'01/01/2200','99/99/9999':'01/01/1700'}, inplace=True)\n",
    "    base['DT_INICIO_TRAT'].replace({'/  /':'01/01/1700', '88/88/8888':'01/01/1700','99/99/9999':'01/01/1700'}, inplace=True)\n"
   ]
  },
  {
   "cell_type": "code",
   "execution_count": 4,
   "metadata": {},
   "outputs": [],
   "source": [
    "for base in bases:\n",
    "    base[\"CONS-DIAG\"] = (pd.to_datetime(base['DT_PRIMA_CONS']) - pd.to_datetime(base['DT_PRIMA_DIAG'])).dt.days\n",
    "    base[\"TRAT-DIAG\"] = (pd.to_datetime(base['DT_INICIO_TRAT'])- pd.to_datetime(base['DT_PRIMA_DIAG'])).dt.days\n",
    "    base[\"TRAT-CONS\"] = (pd.to_datetime(base['DT_INICIO_TRAT']) - pd.to_datetime(base['DT_PRIMA_CONS'])).dt.days\n",
    "    base[\"OBITO-TRAT\"] = (pd.to_datetime(base['DATA_OBITO']) - pd.to_datetime(base['DT_INICIO_TRAT'])).dt.days\n",
    "    base[\"OBITO-DIAG\"] = (pd.to_datetime(base['DATA_OBITO']) - pd.to_datetime(base['DT_PRIMA_DIAG'])).dt.days\n",
    "    base[\"OBITO-CONS\"] = (pd.to_datetime(base['DATA_OBITO']) - pd.to_datetime(base['DT_PRIMA_CONS'])).dt.days\n",
    "    "
   ]
  },
  {
   "cell_type": "code",
   "execution_count": 6,
   "metadata": {},
   "outputs": [],
   "source": [
    "for base in bases:\n",
    "    base['PERIODO_DIAG'] = pd.DatetimeIndex(base['DT_PRIMA_DIAG']).month\n",
    "    base['PERIODO_CONS'] = pd.DatetimeIndex(base['DT_PRIMA_CONS']).month\n",
    "    base['PERIODO_TRAT'] = pd.DatetimeIndex(base['DT_INICIO_TRAT']).month\n",
    "    base['PERIODO_OBITO'] = pd.DatetimeIndex(base['DATA_OBITO']).month\n",
    "    \n",
    " \n",
    "   "
   ]
  },
  {
   "cell_type": "code",
   "execution_count": 9,
   "metadata": {},
   "outputs": [],
   "source": [
    "for base in bases:\n",
    "    base.loc[ base['IDADE'] <= 19, 'FAIXA_ETARIA'] = '0-19'\n",
    "    \n",
    "    base.loc[(base['IDADE'] >= 20) & (base['IDADE'] <= 39), 'FAIXA_ETARIA'] = '20-39'\n",
    "    \n",
    "    base.loc[(base['IDADE'] > 39) & (base['IDADE'] <= 64), 'FAIXA_ETARIA'] = '40-64'\n",
    "    \n",
    "    base.loc[base['IDADE'] >= 65, 'FAIXA_ETARIA'] = '>65'"
   ]
  },
  {
   "cell_type": "code",
   "execution_count": 18,
   "metadata": {},
   "outputs": [],
   "source": [
    "rhc12.to_excel('C:\\\\Users\\\\rapha\\\\Desktop\\\\Lara\\\\TCR\\\\Bases_TCR\\\\rhc12_v4.xlsx')\n",
    "rhc13.to_excel('C:\\\\Users\\\\rapha\\\\Desktop\\\\Lara\\\\TCR\\\\Bases_TCR\\\\rhc13_v4.xlsx')\n",
    "rhc15.to_excel('C:\\\\Users\\\\rapha\\\\Desktop\\\\Lara\\\\TCR\\\\Bases_TCR\\\\rhc15_v4.xlsx')\n",
    "rhc16.to_excel('C:\\\\Users\\\\rapha\\\\Desktop\\\\Lara\\\\TCR\\\\Bases_TCR\\\\rhc16_v4.xlsx')"
   ]
  },
  {
   "cell_type": "code",
   "execution_count": null,
   "metadata": {},
   "outputs": [],
   "source": []
  }
 ],
 "metadata": {
  "kernelspec": {
   "display_name": "Python 3",
   "language": "python",
   "name": "python3"
  },
  "language_info": {
   "codemirror_mode": {
    "name": "ipython",
    "version": 3
   },
   "file_extension": ".py",
   "mimetype": "text/x-python",
   "name": "python",
   "nbconvert_exporter": "python",
   "pygments_lexer": "ipython3",
   "version": "3.6.4"
  }
 },
 "nbformat": 4,
 "nbformat_minor": 4
}
