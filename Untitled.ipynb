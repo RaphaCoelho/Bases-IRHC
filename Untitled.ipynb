{
 "cells": [
  {
   "cell_type": "code",
   "execution_count": 98,
   "metadata": {},
   "outputs": [],
   "source": [
    "import pandas as pd"
   ]
  },
  {
   "cell_type": "code",
   "execution_count": 99,
   "metadata": {},
   "outputs": [],
   "source": [
    "base = pd.read_excel('C:\\\\Users\\\\rapha\\\\Desktop\\\\Lara\\\\TCR\\\\Bases_TCR\\\\Bases_V6\\\\database_v6.xlsx')"
   ]
  },
  {
   "cell_type": "code",
   "execution_count": 100,
   "metadata": {},
   "outputs": [],
   "source": [
    "base['ANO'] = base['ANO_PRIMA_CONS']"
   ]
  },
  {
   "cell_type": "code",
   "execution_count": 101,
   "metadata": {},
   "outputs": [],
   "source": [
    "base['RACA_COR'].replace({'Amarela':'Parda'}, inplace=True)"
   ]
  },
  {
   "cell_type": "code",
   "execution_count": 102,
   "metadata": {},
   "outputs": [
    {
     "data": {
      "text/plain": [
       "array(['Não', 'Sem Informação', 'Sim', 'Ex-consumidor', 'Não se Aplica'],\n",
       "      dtype=object)"
      ]
     },
     "execution_count": 102,
     "metadata": {},
     "output_type": "execute_result"
    }
   ],
   "source": [
    "base.ETILISMO.unique()"
   ]
  },
  {
   "cell_type": "code",
   "execution_count": 103,
   "metadata": {},
   "outputs": [],
   "source": [
    "base['ETILISMO'].replace({'Ex-consumidor':'Sim'}, inplace=True)"
   ]
  },
  {
   "cell_type": "code",
   "execution_count": 104,
   "metadata": {},
   "outputs": [
    {
     "data": {
      "text/plain": [
       "array(['Sim', 'Não', 'Sem informação', 'Ex-consumidor', 'Não avaliado'],\n",
       "      dtype=object)"
      ]
     },
     "execution_count": 104,
     "metadata": {},
     "output_type": "execute_result"
    }
   ],
   "source": [
    "base.TABAGISMO.unique()"
   ]
  },
  {
   "cell_type": "code",
   "execution_count": 105,
   "metadata": {},
   "outputs": [],
   "source": [
    "base['TABAGISMO'].replace({'Ex-consumidor':'Sim'}, inplace=True)"
   ]
  },
  {
   "cell_type": "code",
   "execution_count": 106,
   "metadata": {},
   "outputs": [
    {
     "data": {
      "text/plain": [
       "array(['Casado', 'Solteiro', 'Viúvo', 'Divociardo', 'Sem informação',\n",
       "       'União consensual'], dtype=object)"
      ]
     },
     "execution_count": 106,
     "metadata": {},
     "output_type": "execute_result"
    }
   ],
   "source": [
    "base.ESTADO_CIVIL.unique()"
   ]
  },
  {
   "cell_type": "code",
   "execution_count": 107,
   "metadata": {},
   "outputs": [],
   "source": [
    "base['ESTADO_CIVIL'].replace({'Viúvo':'Solteiro','Divorciado':'Solteiro'}, inplace=True)"
   ]
  },
  {
   "cell_type": "code",
   "execution_count": 108,
   "metadata": {},
   "outputs": [],
   "source": [
    "base['ESTADO_CIVIL'].replace({'União consensual':'Casado'}, inplace=True)"
   ]
  },
  {
   "cell_type": "code",
   "execution_count": 109,
   "metadata": {},
   "outputs": [
    {
     "data": {
      "text/plain": [
       "array(['Doença em progressão', 'Remissão completa', 'Doença estável',\n",
       "       'Óbito', 'Sem informação', 'Suporte terapêutico oncológico',\n",
       "       'Não se aplica', 'Remissão parcial'], dtype=object)"
      ]
     },
     "execution_count": 109,
     "metadata": {},
     "output_type": "execute_result"
    }
   ],
   "source": [
    "base.DESF_PRIMA_TRAT.unique()"
   ]
  },
  {
   "cell_type": "code",
   "execution_count": 110,
   "metadata": {},
   "outputs": [],
   "source": [
    "base['STATUS_DESF'] = base['DESF_PRIMA_TRAT'].map( {'Doença em progressão': 'Negativo', \n",
    "                                              'Remissão completa': 'Positivo', \n",
    "                                              'Doença estável': 'Positivo', \n",
    "                                              'Óbito': 'Negativo', \n",
    "                                              'Sem informação': 'Sem informação', \n",
    "                                              'Não se aplica': 'Sem informação',\n",
    "                                              'Suporte terapêutico oncológico': 'Negativo',\n",
    "                                              'Remissão parcial': 'Positivo'}).astype(str)"
   ]
  },
  {
   "cell_type": "code",
   "execution_count": 111,
   "metadata": {},
   "outputs": [],
   "source": [
    "base['DESF_PRIMA_TRAT'].replace({'Não se aplica': 'Sem informação'}, inplace=True)"
   ]
  },
  {
   "cell_type": "code",
   "execution_count": 112,
   "metadata": {},
   "outputs": [
    {
     "data": {
      "text/plain": [
       "array(['Negativo', 'Positivo', 'Sem informação'], dtype=object)"
      ]
     },
     "execution_count": 112,
     "metadata": {},
     "output_type": "execute_result"
    }
   ],
   "source": [
    "base.STATUS_DESF.unique()"
   ]
  },
  {
   "cell_type": "code",
   "execution_count": 113,
   "metadata": {},
   "outputs": [
    {
     "data": {
      "text/plain": [
       "array(['QT/RTX', 'RTX/QT', 'Radioterapia', 'RTX/QT/RTX', 'RTX/RTX',\n",
       "       'Cirurgia', 'Outros', 'Cirurgia/RTX/QT', 'Cirurgia/RTX/QT/RTX',\n",
       "       'Cirurgia/Cirurgia', 'Quimioterapia', 'QT/RTX/Outros',\n",
       "       'Cirurgia/RTX', 'Outros/RTX', 'RTX/Outros/QT', 'Nenhum',\n",
       "       'Cirurgia/QT', 'QT/Cirurgia', 'Outros/QT', 'Cirurgia/RTX/RTX',\n",
       "       'QT/HT', 'QT/QT', 'RTX/Outros', 'RTX/QT/RTX/Cirurgia',\n",
       "       'Cirurgia/QT/RTX', 'Cirurgia/Cirurgia/RTX/QT/RTX', 'RTX/Cirurgia',\n",
       "       'RTX/Outros/Imunoterapia', 'Sem informação', 'RTX/QT/Outros',\n",
       "       'RTX/QT/QT', 'RTX/QT/RTX/RTX', 'RTX/QT/Cirurgia', 'QT/RTX/RTX',\n",
       "       'Outros/QT/RTX', 'RTX/QT/HT', 'Hormonioterapia', 'HT/RTX',\n",
       "       'Cirurgia/RTX/QT/QT', 'QT/RTX/Cirurgia',\n",
       "       'Cirurgia/QT/RTX/Cirurgia', 'Cirurgia/Cirurgia/Cirurgia',\n",
       "       'QT/Cirurgia/QT', 'Cirurgia/Cirurgia/RTX', 'Outros/RXT/QT',\n",
       "       'QT/RTX/HT', 'RTX/QT/Outros/QT', 'Outros/RTX/QT/Cirurgia',\n",
       "       'RTX/QT/Cirurgia/RTX', 'QT/Cirurgia/RTX', 'QT/Outros/RTX',\n",
       "       'QT/Outros', 'Cirurgia/Outros', 'RTX/Cirurgia/QT', 'HT/Outros',\n",
       "       'Cirurgia/QT/RTX/HT', 'QT/Cirurgia/HT', 'Cirurgia/Cirurgia/RTX/QT',\n",
       "       'Cirurgia/Cirurgia/QT', 'Outros/RTX/Cirurgia', 'QT/RTX/QT',\n",
       "       'Cirurgia/QT/RTX/Outros', 'RTX/RTX/QT',\n",
       "       'Cirurgia/Cirurgia/Cirurgia/Cirurgia', 'Cirurgia/Outros/RTX',\n",
       "       'QT/Outros/Cirurgia', 'QT/RTX/Outros/QT', 'RTX/QT/Outros/RTX'],\n",
       "      dtype=object)"
      ]
     },
     "execution_count": 113,
     "metadata": {},
     "output_type": "execute_result"
    }
   ],
   "source": [
    "base.PRIMA_TRAT_HOSP.unique()"
   ]
  },
  {
   "cell_type": "code",
   "execution_count": 114,
   "metadata": {},
   "outputs": [],
   "source": [
    "base['PRIMA_TRAT_HOSP'].replace({'RTX/QT/RTX':'RTX/QT','RTX/RTX':'RTX',\n",
    "                                 'Cirurgia/RTX/QT/RTX':'Cirurgia/RTX/QT', 'Cirurgia/Cirurgia':'Cirurgia',\n",
    "                                 'Cirurgia/RTX/RTX':'Cirurgia/RXT','QT/QT':'QT'}, inplace=True)"
   ]
  },
  {
   "cell_type": "code",
   "execution_count": 115,
   "metadata": {},
   "outputs": [],
   "source": [
    "base['PRIMA_TRAT_HOSP'].replace({'Radioterapia':'RTX','RTX/QT/RTX/Cirurgia':'RTX/QT/Cirurgia',\n",
    "                                 'Cirurgia/Cirurgia/RTX/QT/RTX':'Cirurgia/RTX/QT','RTX/QT/RTX/RTX':'RTX/QT',\n",
    "                                 'Cirurgia/Cirurgia/QT':'Cirurgia/QT','QT/RTX/QT':'QT/RTX',\n",
    "                                 'Cirurgia/Cirurgia/Cirurgia/Cirurgia':'Cirurgia'}, inplace=True)"
   ]
  },
  {
   "cell_type": "code",
   "execution_count": 116,
   "metadata": {},
   "outputs": [],
   "source": [
    "base['PRIMA_TRAT_HOSP'].replace({'Cirurgia/Cirurgia/RTX/QT':'Cirurgia/RTX/QT','RTX/QT/Outros/RTX':'RTX/QT/Outros',\n",
    "                                'RTX/RTX/QT':'RTX/QT'}, inplace=True)"
   ]
  },
  {
   "cell_type": "code",
   "execution_count": 117,
   "metadata": {},
   "outputs": [],
   "source": [
    "base['PRIMA_TRAT_HOSP'].replace({'QT/RTX/Outros/QT':'QT/RTX/Outros','RTX/QT/QT':'RTX/QT'}, inplace=True)"
   ]
  },
  {
   "cell_type": "code",
   "execution_count": 118,
   "metadata": {},
   "outputs": [],
   "source": [
    "base['PRIMA_TRAT_HOSP'].replace({'Cirurgia/RTX/QT/QT':'Cirurgia/RTX/QT','Cirurgia/Cirurgia/RTX':'Cirurgia/RTX',\n",
    "                                'QT/RTX/RTX':'QT/RTX'}, inplace=True)"
   ]
  },
  {
   "cell_type": "code",
   "execution_count": 119,
   "metadata": {},
   "outputs": [],
   "source": [
    "base['PRIMA_TRAT_HOSP'].replace({'Cirurgia/QT/RTX/Cirurgia':'Cirurgia/QT/RTX',\n",
    "                                 'Cirurgia/Cirurgia/Cirurgia':'Cirurgia'}, inplace=True)"
   ]
  },
  {
   "cell_type": "code",
   "execution_count": 120,
   "metadata": {},
   "outputs": [],
   "source": [
    "base['PRIMA_TRAT_HOSP'].replace({'RTX/QT/Cirurgia/RTX':'RTX/QT/Cirurgia'}, inplace=True)"
   ]
  },
  {
   "cell_type": "code",
   "execution_count": 121,
   "metadata": {},
   "outputs": [],
   "source": [
    "base['PRIMA_TRAT_HOSP'].replace({'RTX/QT/Outros/QT':'RTX/QT/Outros'}, inplace=True)"
   ]
  },
  {
   "cell_type": "code",
   "execution_count": 122,
   "metadata": {},
   "outputs": [],
   "source": [
    "base['PRIMA_TRAT_HOSP'].replace({'QT/RTX':'RTX/QT'}, inplace=True)"
   ]
  },
  {
   "cell_type": "code",
   "execution_count": 123,
   "metadata": {},
   "outputs": [],
   "source": [
    "base['PRIMA_TRAT_HOSP'].replace({'QT/Cirurgia/QT':'QT/Cirurgia'}, inplace=True)"
   ]
  },
  {
   "cell_type": "code",
   "execution_count": 124,
   "metadata": {},
   "outputs": [],
   "source": [
    "base['PRIMA_TRAT_HOSP'].replace({'Quimioterapia':'QT','Hormonioterapia':'HT'}, inplace=True)"
   ]
  },
  {
   "cell_type": "code",
   "execution_count": 125,
   "metadata": {},
   "outputs": [],
   "source": [
    "base.loc[ base['IDADE'] <= 29, 'FAIXA_ETARIA'] = '<=29'\n",
    "\n",
    "base.loc[(base['IDADE'] >= 30) & (base['IDADE'] <= 39), 'FAIXA_ETARIA'] = '30-39'\n",
    "\n",
    "base.loc[(base['IDADE'] >= 40) & (base['IDADE'] <= 49), 'FAIXA_ETARIA'] = '40-49'\n",
    "\n",
    "base.loc[(base['IDADE'] >= 50) & (base['IDADE'] <= 59), 'FAIXA_ETARIA'] = '50-59'\n",
    "\n",
    "base.loc[(base['IDADE'] >= 60) & (base['IDADE'] <= 69), 'FAIXA_ETARIA'] = '60-69'\n",
    "\n",
    "base.loc[(base['IDADE'] >= 70) & (base['IDADE'] <= 79), 'FAIXA_ETARIA'] = '70-79'\n",
    "\n",
    "base.loc[base['IDADE'] >= 80, 'FAIXA_ETARIA'] = '>=80'"
   ]
  },
  {
   "cell_type": "code",
   "execution_count": 126,
   "metadata": {},
   "outputs": [],
   "source": [
    "base['PRIMA_TRAT2'] =['Radioterapia/Quimioterapía' if row.PRIMA_TRAT_HOSP in ('RTX/QT') else\n",
    "                   'Cirurgia' if row.PRIMA_TRAT_HOSP in ('Cirurgia') else\n",
    "                   'Radioterapía' if row.PRIMA_TRAT_HOSP in ('RTX') else\n",
    "                   'Quimioterapia' if row.PRIMA_TRAT_HOSP in ('QT') else\n",
    "                   'Cirurgia/RTX/QT' if row.PRIMA_TRAT_HOSP in ('Cirurgia/RTX/QT') else \n",
    "                   'Sem informação' if row.PRIMA_TRAT_HOSP in ('Sem informação') else\n",
    "                   'Nenhum' if row.PRIMA_TRAT_HOSP == 'Nenhum' else 'Outros' for i, row in base.iterrows()]"
   ]
  },
  {
   "cell_type": "code",
   "execution_count": 127,
   "metadata": {},
   "outputs": [],
   "source": [
    "base['ESQUEMA_TERAPEUTICO'] =['Monomodalidade' if row.PRIMA_TRAT_HOSP in ('RTX','QT','Cirurgia','HT') else\n",
    "                              'Bimodalidade' if row.PRIMA_TRAT_HOSP in ('RTX/QT','Cirurgia/RTX','Cirurgia/QT','QT/Cirurgia',\n",
    "                                                                        'Cirurgia/RXT','QT/HT','RTX/Cirurgia','HT/RTX') else\n",
    "                              'Trimodalidade' if row.PRIMA_TRAT_HOSP in ('Cirurgia/RTX/QT','RTX/QT/Cirurgia','Cirurgia/QT/RTX',\n",
    "                                                                         'RTX/QT/HT','QT/RTX/Cirurgia','QT/RTX/HT','QT/Cirurgia/RTX',\n",
    "                                                                         'RTX/Cirurgia/QT','QT/Cirurgia/HT') else    \n",
    "                              'Sem informação' if row.PRIMA_TRAT_HOSP in ('Sem informação') else\n",
    "                              'Nenhum' if row.PRIMA_TRAT_HOSP == 'Nenhum' else 'Outros' for i, row in base.iterrows()]"
   ]
  },
  {
   "cell_type": "code",
   "execution_count": 128,
   "metadata": {},
   "outputs": [],
   "source": [
    "base['HOSPITAL'] =['Instituto Nacional do Câncer II' if row.CNES in ('INCA 2') \n",
    "                   else 'Outras instituições' for i, row in base.iterrows()]"
   ]
  },
  {
   "cell_type": "code",
   "execution_count": 142,
   "metadata": {},
   "outputs": [],
   "source": [
    "base['RZNTR'].replace({'Doença avançada, falta de condições clínicas ou outras comorbidades':'Condições clínicas/estadiamento',\n",
    "                             'Tratamento realizado em outro lugar':'Tratamento em outro lugar',\n",
    "                             'Eventos adversos ao tratamento':'Eventos adversos',\n",
    "                             'Recusa do tratamento':'Abandono do tratamento'}, inplace=True)"
   ]
  },
  {
   "cell_type": "code",
   "execution_count": null,
   "metadata": {},
   "outputs": [],
   "source": [
    "base['GRUPO_ESTAD'].replace({'0':'Sem informação','Z':'Sem informação','8':'Sem informação','9':'Sem informação'}, inplace=True)"
   ]
  },
  {
   "cell_type": "code",
   "execution_count": 145,
   "metadata": {},
   "outputs": [],
   "source": [
    "base.to_excel('C:\\\\Users\\\\rapha\\\\Desktop\\\\Lara\\\\TCR\\\\Bases_TCR\\\\Bases_V7\\\\database_v7.xlsx')"
   ]
  },
  {
   "cell_type": "code",
   "execution_count": 143,
   "metadata": {},
   "outputs": [
    {
     "data": {
      "text/plain": [
       "array(['Não se aplica', 'Condições clínicas/estadiamento',\n",
       "       'Tratamento em outro lugar', 'Sem informação', 'Eventos adversos',\n",
       "       'Outras razões', 'Abandono do tratamento', 'Óbito'], dtype=object)"
      ]
     },
     "execution_count": 143,
     "metadata": {},
     "output_type": "execute_result"
    }
   ],
   "source": [
    "base.RZNTR.unique()"
   ]
  },
  {
   "cell_type": "code",
   "execution_count": null,
   "metadata": {},
   "outputs": [],
   "source": [
    "\n"
   ]
  },
  {
   "cell_type": "code",
   "execution_count": null,
   "metadata": {},
   "outputs": [],
   "source": []
  }
 ],
 "metadata": {
  "kernelspec": {
   "display_name": "Python 3",
   "language": "python",
   "name": "python3"
  },
  "language_info": {
   "codemirror_mode": {
    "name": "ipython",
    "version": 3
   },
   "file_extension": ".py",
   "mimetype": "text/x-python",
   "name": "python",
   "nbconvert_exporter": "python",
   "pygments_lexer": "ipython3",
   "version": "3.6.4"
  }
 },
 "nbformat": 4,
 "nbformat_minor": 2
}
